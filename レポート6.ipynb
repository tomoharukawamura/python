{
  "nbformat": 4,
  "nbformat_minor": 0,
  "metadata": {
    "colab": {
      "provenance": [],
      "authorship_tag": "ABX9TyPpkR+6ForQLMp0O5wnV6ze",
      "include_colab_link": true
    },
    "kernelspec": {
      "name": "python3",
      "display_name": "Python 3"
    },
    "language_info": {
      "name": "python"
    }
  },
  "cells": [
    {
      "cell_type": "markdown",
      "metadata": {
        "id": "view-in-github",
        "colab_type": "text"
      },
      "source": [
        "<a href=\"https://colab.research.google.com/github/tomoharukawamura/python/blob/master/%E3%83%AC%E3%83%9D%E3%83%BC%E3%83%886.ipynb\" target=\"_parent\"><img src=\"https://colab.research.google.com/assets/colab-badge.svg\" alt=\"Open In Colab\"/></a>"
      ]
    },
    {
      "cell_type": "code",
      "execution_count": 3,
      "metadata": {
        "id": "y3OEDEqOhVGX"
      },
      "outputs": [],
      "source": [
        "import math\n",
        "import numpy as np\n",
        "import matplotlib.pyplot as plt\n",
        "%matplotlib inline\n",
        "x_axis=[0.1,0.2,0.3,0.4,0.5,0.6,0.7,0.8,0.9,1.0]\n",
        "x_axis_test=np.linspace(0.1,1.0,1000)\n",
        "y=[\n",
        "    0.08311894,\n",
        "    0.100367,\n",
        "    0.107784,\n",
        "    0.0198079,\n",
        "    0.219709,\n",
        "    0.280256,\n",
        "    0.254182,\n",
        "    0.471638,\n",
        "    0.771075,\n",
        "    0.976337\n",
        "]"
      ]
    },
    {
      "cell_type": "code",
      "source": [
        "def calc_inverse_matrix(n,A):\n",
        "  B=np.eye(n)\n",
        "  for j in range(0,n,1):\n",
        "    for i in range(j+1,n,1):\n",
        "      coe = -A[i][j]/A[j][j]\n",
        "      for k in range(n):\n",
        "        A[i][k]+=coe*A[j][k]\n",
        "        B[i][k]+=coe*B[j][k]\n",
        "  for j_2 in range(n-1,0,-1):\n",
        "    for i_2 in range(j_2-1,-1,-1):\n",
        "      coe_2 = -A[i_2][j_2]/A[j_2][j_2]\n",
        "      for k_2 in range(n):\n",
        "        B[i_2][k_2]+=coe_2*B[j_2][k_2]\n",
        "  for i_3 in range(n):\n",
        "    for j_3 in range(n):\n",
        "      B[i_3][j_3]=B[i_3][j_3]/A[i_3][i_3]\n",
        "  return B\n",
        "\n",
        "# n*n行列Aを生成\n",
        "# nはサンプルデータの数\n",
        "def create_A(n,num):\n",
        "    res=np.zeros((n,n))\n",
        "    x_axis_1=[0.1,0.2,0.3,0.4,0.5,0.6,0.7,0.8,0.9,1.0]\n",
        "    if n!=10:\n",
        "      x_axis_1.pop(num)\n",
        "    for j in range(n):\n",
        "        for i in range(n):  \n",
        "            res[j][i]+=x_axis[j]**i\n",
        "    return res\n",
        "\n",
        "def calc_c_1(n):\n",
        "    A=create_A(n,0)\n",
        "    trans_A=A.T\n",
        "    inv_mat=calc_inverse_matrix(n,trans_A@A)\n",
        "    return inv_mat@(trans_A@np.array(y))\n",
        "\n",
        "def draw_graph(data,x):\n",
        "    res=[]\n",
        "    for i in range(len(x)):\n",
        "        tmp=0\n",
        "        for j in range(len(data)):\n",
        "            tmp+=data[j]*(x[i]**j)\n",
        "        res.append(tmp)\n",
        "    plt.plot(x,res)"
      ],
      "metadata": {
        "id": "vhA4yC47Hc3Z"
      },
      "execution_count": 84,
      "outputs": []
    },
    {
      "cell_type": "code",
      "source": [
        "data_1=calc_c_1(10)\n",
        "print(data_1)\n",
        "draw_graph(data_1,x_axis_test)\n",
        "plt.scatter(x_axis,y)"
      ],
      "metadata": {
        "colab": {
          "base_uri": "https://localhost:8080/",
          "height": 338
        },
        "id": "ZbWjBT52Hi7F",
        "outputId": "70cded71-3dd6-44c2-a947-32ea47ead17f"
      },
      "execution_count": 29,
      "outputs": [
        {
          "output_type": "stream",
          "name": "stdout",
          "text": [
            "[ 1.74804599e+01 -4.56613235e+02  4.70331354e+03 -2.54782676e+04\n",
            "  8.12873770e+04 -1.60485480e+05  1.98214398e+05 -1.49009484e+05\n",
            "  6.23282422e+04 -1.11200117e+04]\n"
          ]
        },
        {
          "output_type": "execute_result",
          "data": {
            "text/plain": [
              "<matplotlib.collections.PathCollection at 0x7fd86012aa90>"
            ]
          },
          "metadata": {},
          "execution_count": 29
        },
        {
          "output_type": "display_data",
          "data": {
            "text/plain": [
              "<Figure size 432x288 with 1 Axes>"
            ],
            "image/png": "[encoded data removed]"
          },
          "metadata": {
            "needs_background": "light"
          }
        }
      ]
    },
    {
      "cell_type": "code",
      "source": [
        "mat=create_A(10,0)\n",
        "trans_A=mat.T"
      ],
      "metadata": {
        "id": "na-ehdtkLoyW"
      },
      "execution_count": 67,
      "outputs": []
    },
    {
      "cell_type": "code",
      "source": [
        "from locale import ABDAY_5\n",
        "def softthreshold(c,lam):\n",
        "    res=[]\n",
        "    for elem in c:\n",
        "        if elem>lam:\n",
        "            res.append(elem-lam)\n",
        "        elif elem<-lam:\n",
        "            res.append(elem+lam)\n",
        "        else:\n",
        "            res.append(0)\n",
        "    return np.array(res)\n",
        "\n",
        "def calc_c_2(c,lamb,y,A,A_t):\n",
        "    diff=1\n",
        "    times=0\n",
        "    err=1e-5\n",
        "    alpha=0.001\n",
        "    while diff>err:\n",
        "        times+=1\n",
        "        g=A_t@(A@c-np.array(y))\n",
        "        c_t=c-alpha*g\n",
        "        c_pre=c\n",
        "        c=softthreshold(c_t,alpha*lamb)\n",
        "        diff=np.linalg.norm(c-c_pre)/np.linalg.norm(c_pre)\n",
        "    print(times)\n",
        "    return c"
      ],
      "metadata": {
        "id": "p4rk8rvwHsTN"
      },
      "execution_count": 104,
      "outputs": []
    },
    {
      "cell_type": "code",
      "source": [
        "c_1=np.ones(10)\n",
        "data_2=calc_c_2(c_1,0.0001,y,mat,trans_A)\n",
        "print(data_2)\n",
        "draw_graph(data_2,x_axis_test)\n",
        "plt.scatter(x_axis,y)"
      ],
      "metadata": {
        "colab": {
          "base_uri": "https://localhost:8080/",
          "height": 338
        },
        "id": "0Yi8aoW_HxYK",
        "outputId": "582f8e1f-8387-4597-8889-cc482a762dbd"
      },
      "execution_count": 105,
      "outputs": [
        {
          "output_type": "stream",
          "name": "stdout",
          "text": [
            "42354\n",
            "[ 0.07723035 -0.02967722  0.17210165  0.24843324  0.2421198   0.197142\n",
            "  0.13388935  0.06134054 -0.0138471  -0.08950009]\n"
          ]
        },
        {
          "output_type": "execute_result",
          "data": {
            "text/plain": [
              "<matplotlib.collections.PathCollection at 0x7fd85f9e2430>"
            ]
          },
          "metadata": {},
          "execution_count": 105
        },
        {
          "output_type": "display_data",
          "data": {
            "text/plain": [
              "<Figure size 432x288 with 1 Axes>"
            ],
            "image/png": "[encoded data removed]"
          },
          "metadata": {
            "needs_background": "light"
          }
        }
      ]
    },
    {
      "cell_type": "code",
      "source": [
        "c_2=np.ones(10)\n",
        "data_2=calc_c_2(c_2,0.01,y,mat,trans_A)\n",
        "print(data_2)\n",
        "draw_graph(data_2,x_axis_test)\n",
        "plt.scatter(x_axis,y)"
      ],
      "metadata": {
        "colab": {
          "base_uri": "https://localhost:8080/",
          "height": 338
        },
        "id": "itxbVB3d_Q_q",
        "outputId": "a67c12d6-9e09-489f-c49e-f1a28eed4aea"
      },
      "execution_count": 106,
      "outputs": [
        {
          "output_type": "stream",
          "name": "stdout",
          "text": [
            "34910\n",
            "[0.06985741 0.         0.17893281 0.23741312 0.21936363 0.16697087\n",
            " 0.09962605 0.02574027 0.         0.        ]\n"
          ]
        },
        {
          "output_type": "execute_result",
          "data": {
            "text/plain": [
              "<matplotlib.collections.PathCollection at 0x7fd85f9b1eb0>"
            ]
          },
          "metadata": {},
          "execution_count": 106
        },
        {
          "output_type": "display_data",
          "data": {
            "text/plain": [
              "<Figure size 432x288 with 1 Axes>"
            ],
            "image/png": "[encoded data removed]"
          },
          "metadata": {
            "needs_background": "light"
          }
        }
      ]
    },
    {
      "cell_type": "code",
      "source": [
        "c=np.ones(10)\n",
        "data_2=calc_c_2(c,1.0,y,mat,trans_A)\n",
        "print(data_2)\n",
        "draw_graph(data_2,x_axis_test)\n",
        "plt.scatter(x_axis,y)"
      ],
      "metadata": {
        "colab": {
          "base_uri": "https://localhost:8080/",
          "height": 338
        },
        "id": "6oN63swvwJzs",
        "outputId": "e8ff7cf3-04d5-4b9c-c9eb-00def2d46437"
      },
      "execution_count": 107,
      "outputs": [
        {
          "output_type": "stream",
          "name": "stdout",
          "text": [
            "15076\n",
            "[0.02093087 0.37761421 0.         0.         0.         0.\n",
            " 0.         0.         0.         0.        ]\n"
          ]
        },
        {
          "output_type": "execute_result",
          "data": {
            "text/plain": [
              "<matplotlib.collections.PathCollection at 0x7fd85f901ca0>"
            ]
          },
          "metadata": {},
          "execution_count": 107
        },
        {
          "output_type": "display_data",
          "data": {
            "text/plain": [
              "<Figure size 432x288 with 1 Axes>"
            ],
            "image/png": "[encoded data removed]"
          },
          "metadata": {
            "needs_background": "light"
          }
        }
      ]
    },
    {
      "cell_type": "code",
      "source": [
        "def calc_3(lam):\n",
        "  err=0\n",
        "  for i in range(10):\n",
        "    c_0=np.ones(9)\n",
        "    mat_2=create_A(9,i)\n",
        "    trans_mat_2=mat_2.T\n",
        "    y_base=[\n",
        "      0.08311894,\n",
        "      0.100367,\n",
        "      0.107784,\n",
        "      0.0198079,\n",
        "      0.219709,\n",
        "      0.280256,\n",
        "      0.254182,\n",
        "      0.471638,\n",
        "      0.771075,\n",
        "      0.976337\n",
        "    ]\n",
        "    y_test=y_base.pop(i)\n",
        "    c_vec=calc_c_2(c_0,lam,y_base,mat_2,trans_mat_2)\n",
        "    internal_err=0\n",
        "    for j in range(len(c_vec)):\n",
        "      internal_err+=c_vec[j]*(0.1*(i+1))**j\n",
        "    diff=abs(internal_err-y_test)\n",
        "    err+=diff\n",
        "  return err/10"
      ],
      "metadata": {
        "id": "gHBvMSCfQSCa"
      },
      "execution_count": 110,
      "outputs": []
    },
    {
      "cell_type": "code",
      "source": [
        "result=calc_3(0.0001)\n",
        "print(result)"
      ],
      "metadata": {
        "colab": {
          "base_uri": "https://localhost:8080/"
        },
        "id": "ge0HtHaJUySH",
        "outputId": "6db9ebaa-52d8-4340-c716-9c324e6a0621"
      },
      "execution_count": 111,
      "outputs": [
        {
          "output_type": "stream",
          "name": "stdout",
          "text": [
            "53926\n",
            "42659\n",
            "41755\n",
            "22389\n",
            "73262\n",
            "75702\n",
            "75736\n",
            "29108\n",
            "12201\n",
            "17537\n",
            "0.11469021829833662\n"
          ]
        }
      ]
    },
    {
      "cell_type": "code",
      "source": [
        "result=calc_3(0.01)\n",
        "print(result)"
      ],
      "metadata": {
        "colab": {
          "base_uri": "https://localhost:8080/"
        },
        "id": "aUZavLy1XHwO",
        "outputId": "a468be97-2192-41ac-f53e-4d9f534e6d9e"
      },
      "execution_count": 112,
      "outputs": [
        {
          "output_type": "stream",
          "name": "stdout",
          "text": [
            "63875\n",
            "65985\n",
            "65974\n",
            "64223\n",
            "52897\n",
            "46520\n",
            "49130\n",
            "46303\n",
            "10336\n",
            "20194\n",
            "0.10550993890901954\n"
          ]
        }
      ]
    },
    {
      "cell_type": "code",
      "source": [
        "result=calc_3(1.0)\n",
        "print(result)"
      ],
      "metadata": {
        "colab": {
          "base_uri": "https://localhost:8080/"
        },
        "id": "1xPkesbBTP0_",
        "outputId": "c4003eff-69eb-4e88-fc9d-30fad05254d0"
      },
      "execution_count": 113,
      "outputs": [
        {
          "output_type": "stream",
          "name": "stdout",
          "text": [
            "8381\n",
            "8444\n",
            "8464\n",
            "8258\n",
            "8547\n",
            "8582\n",
            "8583\n",
            "8353\n",
            "4031\n",
            "1416\n",
            "0.21299729583768148\n"
          ]
        }
      ]
    }
  ]
}