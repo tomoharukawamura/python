{
  "nbformat": 4,
  "nbformat_minor": 0,
  "metadata": {
    "colab": {
      "provenance": [],
      "authorship_tag": "ABX9TyMfKVfkxeKCfN7VEhOxZgVU",
      "include_colab_link": true
    },
    "kernelspec": {
      "name": "python3",
      "display_name": "Python 3"
    },
    "language_info": {
      "name": "python"
    }
  },
  "cells": [
    {
      "cell_type": "markdown",
      "metadata": {
        "id": "view-in-github",
        "colab_type": "text"
      },
      "source": [
        "<a href=\"https://colab.research.google.com/github/tomoharukawamura/python/blob/master/%E3%83%AC%E3%83%9D%E3%83%BC%E3%83%884.ipynb\" target=\"_parent\"><img src=\"https://colab.research.google.com/assets/colab-badge.svg\" alt=\"Open In Colab\"/></a>"
      ]
    },
    {
      "cell_type": "code",
      "execution_count": 1,
      "metadata": {
        "id": "WVe-A9QjAOP1"
      },
      "outputs": [],
      "source": [
        "def f_dash(x):\n",
        "    return 12*(x-2)**3+2*(x-2)\n",
        "\n",
        "def f_double_dash(x):\n",
        "    return 36*(x-2)**2+2\n",
        "\n",
        "def f_dash_over_f_double_dash(x):\n",
        "    return f_dash(x) / f_double_dash(x)\n",
        "\n",
        "def calc_x(x_0):\n",
        "    err=10**-10\n",
        "    diff=1\n",
        "    pre_res=0\n",
        "    x=x_0\n",
        "    while abs(diff)>err:\n",
        "        subtractor=f_dash_over_f_double_dash(x)\n",
        "        x-=subtractor\n",
        "        diff=x-pre_res\n",
        "        pre_res=x\n",
        "    return x"
      ]
    },
    {
      "cell_type": "code",
      "source": [
        "import numpy as np\n",
        "import math\n",
        "def f_dash_1(x,y):\n",
        "    return 6*(x-3)*((y-2)**2+1)\n",
        "\n",
        "def f_dash_2(x,y):\n",
        "    return 2*(y-2)*(3*(x-3)**2+4)\n",
        "\n",
        "def f_double_dash_1_1(y):\n",
        "    return 6*((y-2)**2+1)\n",
        "\n",
        "def f_double_dash_1_2(x,y):\n",
        "    return 12*(x-3)*(y-2)\n",
        "\n",
        "def f_double_dash_2_2(x):\n",
        "    return 2*(3*(x-3)**2+4)\n",
        "\n",
        "def create_vec(x,y):\n",
        "    vec=np.zeros(2)\n",
        "    elem_1=f_dash_1(x,y)\n",
        "    vec[0]+=elem_1\n",
        "    elem_2=f_dash_2(x,y)\n",
        "    vec[1]+=elem_2\n",
        "    return vec\n",
        "\n",
        "def create_matrix(x,y):\n",
        "    matrix=np.zeros((2,2))\n",
        "    elem_1_1=f_double_dash_1_1(y)\n",
        "    matrix[0][0]+=elem_1_1\n",
        "    elem_1_2=f_double_dash_1_2(x,y)\n",
        "    matrix[0][1]+=elem_1_2\n",
        "    matrix[1][0]+=elem_1_2\n",
        "    elem_2_2=f_double_dash_2_2(x)\n",
        "    matrix[1][1]+=elem_2_2\n",
        "    return matrix\n"
      ],
      "metadata": {
        "id": "PnWI4iHuAWAB"
      },
      "execution_count": 2,
      "outputs": []
    },
    {
      "cell_type": "code",
      "source": [
        "# ベクトルxのL2ノルムを計算\n",
        "def norm2(n, x):\n",
        "    res = 0\n",
        "    for i in range(n):\n",
        "        res += x[i]**2\n",
        "    res = math.sqrt(res)\n",
        "    return res\n",
        "\n",
        "# 行列Aとベクトルxの行列ベクトル積Axを計算\n",
        "def matvec(n, A, x):\n",
        "    res = np.zeros(n)\n",
        "    for i in range(n):\n",
        "        tmp = 0\n",
        "        for j in range(n):\n",
        "            tmp += A[i][j]*x[j]\n",
        "        res[i] = tmp\n",
        "\n",
        "    return res\n",
        "\n",
        "def calc_inverse_matrix(n,A):\n",
        "  B=np.eye(n)\n",
        "  for j in range(0,n,1):\n",
        "    for i in range(j+1,n,1):\n",
        "      coe = -A[i][j]/A[j][j]\n",
        "      for k in range(n):\n",
        "        A[i][k]+=coe*A[j][k]\n",
        "        B[i][k]+=coe*B[j][k]\n",
        "  for j_2 in range(n-1,0,-1):\n",
        "    for i_2 in range(j_2-1,-1,-1):\n",
        "      coe_2 = -A[i_2][j_2]/A[j_2][j_2]\n",
        "      for k_2 in range(n):\n",
        "        B[i_2][k_2]+=coe_2*B[j_2][k_2]\n",
        "  for i_3 in range(n):\n",
        "    for j_3 in range(n):\n",
        "      B[i_3][j_3]=B[i_3][j_3]/A[i_3][i_3]\n",
        "  return B"
      ],
      "metadata": {
        "id": "ocMQZSslAXk4"
      },
      "execution_count": 3,
      "outputs": []
    },
    {
      "cell_type": "code",
      "source": [
        "def calc_x_arr(np_arr):\n",
        "     x=np.copy(np_arr)\n",
        "     err=10**-10\n",
        "     diff=1\n",
        "     pre_res=np.array([0,0])\n",
        "     times=0\n",
        "     while abs(diff)>err:\n",
        "          times+=1\n",
        "          x_1=x[0]\n",
        "          x_2=x[1]\n",
        "          mat=create_matrix(x_1,x_2)\n",
        "          inv_matrix=calc_inverse_matrix(2,mat)\n",
        "          tmp_vec=create_vec(x_1,x_2)\n",
        "          subtract=matvec(2,inv_matrix,tmp_vec)\n",
        "          x=x-subtract\n",
        "          diff_vec=x-pre_res\n",
        "          diff=norm2(2,diff_vec)\n",
        "          pre_res=x\n",
        "     return x,times\n",
        "    "
      ],
      "metadata": {
        "id": "tBcisiSCAc3F"
      },
      "execution_count": 4,
      "outputs": []
    }
  ]
}